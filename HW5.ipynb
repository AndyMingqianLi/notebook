{
 "cells": [
  {
   "cell_type": "markdown",
   "id": "f56cebb9",
   "metadata": {},
   "source": [
    "1. the key factor that makes the difference between ideas that can, and cannot be examined and tested statistically is if there is any data yto test it. The key \"criteria\" for a good null hypothesis is the null hypothesis can be compared with something else. The difference between null hypothesis and alternative hypoesis is is we treat null hypothesis as the status quo and alternative hypothesis as the innovation and we try to reject null hypothesis."
   ]
  },
  {
   "cell_type": "markdown",
   "id": "b90e13da",
   "metadata": {},
   "source": [
    "2. when we run tests, the goal is to make conclusions about the whole population, not just the sample we have.\n",
    "\n",
    "Population: The whole group we're trying to learn about\n",
    "Sample: A smaller group taken from the population "
   ]
  },
  {
   "cell_type": "markdown",
   "id": "e274c085",
   "metadata": {},
   "source": [
    "3. we imagine the null hypothesis is true to evaluate how surprising our data is under that assumption. If the p-value is very small, it means the data we observed would be very unlikely if the null hypothesis were true, which suggests the null hypothesis might not be correct. If the p-value is larger, the data is consistent with the null hypothesis being true."
   ]
  },
  {
   "cell_type": "markdown",
   "id": "a5603b31",
   "metadata": {},
   "source": [
    "4.the vesio means as the p-value gets smaller, the assumption of the null hypothesis becomes harder to believe.\n",
    " a small p-value suggests that the data doesn’t fit well with the idea that the null hypothesis is true, making it seem less credible.\n",
    " \n",
    "Null hypothesis: This is the starting statement that there is no effect or no difference.\n",
    "   \n",
    "p-value: This is the probability of getting our observed data if the null hypothesis is true."
   ]
  },
  {
   "cell_type": "markdown",
   "id": "07b17b62",
   "metadata": {},
   "source": [
    "5.First,simulate a world where the null hypothesis is true\n",
    "Each couple has a 50/50 chance of tilting right.\n",
    "\n",
    "Second, Simulate the head-tilting of 124 couples thousands of times to see how often you get results as extreme as or more extreme than the observed 80 right-tilts.\n",
    "\n",
    "Third, Compute the p-value\n",
    "the p-value is approximately 0.0006\n",
    "\n",
    "Finally, we know we have very strong evidence against the null hypothesis\n"
   ]
  },
  {
   "cell_type": "markdown",
   "id": "009abb95",
   "metadata": {},
   "source": [
    "6. Smaller p-value cannot definitively prove that the null hypothesis is false.\n",
    "\n",
    "In the context of the Fido example from the second video, a p-value cannot definitively prove Fido's innocence or guilt:\n",
    "\n",
    "A small p-value (e.g., less than 0.05) suggests strong evidence against the null hypothesis (Fido is innocent), but it doesn't prove Fido is guilty.\n",
    "A large p-value (e.g., greater than 0.05) suggests the data is consistent with the null hypothesis (Fido is innocent), but it doesn't prove Fido is innocent.\n",
    "\n",
    "So, we can say: No matter how low or high the p-value is, it never provides definitive proof. "
   ]
  },
  {
   "cell_type": "markdown",
   "id": "75b3bff9",
   "metadata": {},
   "source": [
    "7. Two-sided test: This test checks if the parameter is significantly different from the null value in either direction (greater or less).\n",
    "One-sided test: This test checks if the parameter is significantly different from the null value in one direction only (either greater or less, depending on the hypothesis).\n",
    "\n",
    "The p-value for a one-tailed test is expected to be smaller than that of a two-tailed test, provided the effect is in the predicted direction. This is because the one-tailed test only considers half of the total probability space (the upper or lower tail), while the two-tailed test considers both.\n",
    "\n",
    "If the direction of the observed effect is aligned with your hypothesis (e.g., the vaccine is indeed more effective), the one-tailed test gives more power to detect a significant effect, as the total probability under the null is distributed over one tail instead of two."
   ]
  },
  {
   "cell_type": "markdown",
   "id": "42d70b56",
   "metadata": {},
   "source": [
    "8.The original experiment conducted by Ronald Fisher with Dr. Muriel Bristol tested whether Dr. Bristol could accurately differentiate cups of tea based on whether the milk or tea was poured first. Fisher designed a hypothesis test to see if Dr. Bristol's success could be due to random guessing. Similarly, we are testing STA130 students to see if their success in identifying the order is better than what would be expected by chance.\n",
    "\n",
    "While Fisher's experiment involved only one individual (Dr. Bristol) and a small number of cups (8 in total), our experiment involves 80 students and tests each of them with one cup. The nature of the population also differs: Dr. Bristol had a specific claim to taste the difference, while STA130 students represent a broader, more abstract population.\n",
    "\n",
    "\n",
    "H0: p = 0.5   HA: p > 0.5\n",
    "\n",
    "\n",
    "p- is the sample proportion p- = 49/80\n",
    "p0 is the null hypothesis value p0 = 0.5\n",
    "n is the sample size (80)\n",
    "\n",
    "\n",
    "Methodology\n",
    "Compute the test statistic using the formula for z.\n",
    "Find the p-value associated with the calculated z-value.\n",
    "Interpret the p-value to determine whether we reject or fail to reject the null hypothesis."
   ]
  },
  {
   "cell_type": "code",
   "execution_count": 4,
   "id": "3591e9f1",
   "metadata": {},
   "outputs": [
    {
     "name": "stdout",
     "output_type": "stream",
     "text": [
      "Z-statistic: 2.0124611797498115\n",
      "P-value: 0.022085672454221217\n"
     ]
    }
   ],
   "source": [
    "from scipy import stats\n",
    "import math\n",
    "\n",
    "# Given data\n",
    "n = 80  # sample size\n",
    "x = 49  # number of successes (correct identifications)\n",
    "p_hat = x / n  # sample proportion\n",
    "p_0 = 0.5  # null hypothesis proportion\n",
    "\n",
    "# Compute z-statistic\n",
    "z = (p_hat - p_0) / math.sqrt((p_0 * (1 - p_0)) / n)\n",
    "\n",
    "# Compute p-value (one-sided test)\n",
    "p_value = 1 - stats.norm.cdf(z)\n",
    "\n",
    "# Output the results\n",
    "print(f\"Z-statistic: {z}\")\n",
    "print(f\"P-value: {p_value}\")\n"
   ]
  },
  {
   "cell_type": "markdown",
   "id": "d3c917bf",
   "metadata": {},
   "source": [
    "9.somewhat"
   ]
  },
  {
   "cell_type": "code",
   "execution_count": null,
   "id": "0ee43547",
   "metadata": {},
   "outputs": [],
   "source": []
  }
 ],
 "metadata": {
  "kernelspec": {
   "display_name": "Python 3 (ipykernel)",
   "language": "python",
   "name": "python3"
  },
  "language_info": {
   "codemirror_mode": {
    "name": "ipython",
    "version": 3
   },
   "file_extension": ".py",
   "mimetype": "text/x-python",
   "name": "python",
   "nbconvert_exporter": "python",
   "pygments_lexer": "ipython3",
   "version": "3.11.6"
  }
 },
 "nbformat": 4,
 "nbformat_minor": 5
}
