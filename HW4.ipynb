{
 "cells": [
  {
   "cell_type": "code",
   "execution_count": 1,
   "id": "6646ec8c",
   "metadata": {},
   "outputs": [
    {
     "ename": "SyntaxError",
     "evalue": "invalid syntax (1829318677.py, line 1)",
     "output_type": "error",
     "traceback": [
      "\u001b[0;36m  Cell \u001b[0;32mIn[1], line 1\u001b[0;36m\u001b[0m\n\u001b[0;31m    SD shows the difference between every data and the mean of the set. A larger SD means the data is more spread out from the mean.\u001b[0m\n\u001b[0m       ^\u001b[0m\n\u001b[0;31mSyntaxError\u001b[0m\u001b[0;31m:\u001b[0m invalid syntax\n"
     ]
    }
   ],
   "source": [
    "1.SD shows the difference between every data and the mean of the set. A larger SD means the data is more spread out from the mean.\n",
    "SEM means that with a larger sample, the estimate of the mean is more precise. It reflects uncertainty in the sample mean rather than variability in the data itself.\n",
    "SD describes variability in the data. SEM describes how accurately we can estimate the population mean from the sample mean.\n",
    "summary\n",
    "Standard Deviation (SD): Measures the spread of individual data points around the mean. It shows the variability within the dataset itself.\n",
    "Standard Error of the Mean (SEM): Measures the accuracy of the sample mean as an estimate of the population mean. It reflects how much the sample mean might vary from the true mean and decreases with larger sample sizes.\n",
    "In short:\n",
    "\n",
    "SD shows the variability of data points.\n",
    "SEM shows the precision of the mean estimate."
   ]
  },
  {
   "cell_type": "code",
   "execution_count": 2,
   "id": "e72b80df",
   "metadata": {},
   "outputs": [
    {
     "ename": "SyntaxError",
     "evalue": "invalid decimal literal (2239751347.py, line 1)",
     "output_type": "error",
     "traceback": [
      "\u001b[0;36m  Cell \u001b[0;32mIn[2], line 1\u001b[0;36m\u001b[0m\n\u001b[0;31m    2.First, find a dataset which is large enough, and find out its mean.\u001b[0m\n\u001b[0m     ^\u001b[0m\n\u001b[0;31mSyntaxError\u001b[0m\u001b[0;31m:\u001b[0m invalid decimal literal\n"
     ]
    }
   ],
   "source": [
    "2.First, find a dataset which is large enough, and find out its mean.\n",
    "Second, calcalute the SEM\n",
    "Third, approximately 95% of the values lie within 1.96 SEM of the mean.\n"
   ]
  },
  {
   "cell_type": "code",
   "execution_count": 3,
   "id": "709a9186",
   "metadata": {},
   "outputs": [
    {
     "ename": "SyntaxError",
     "evalue": "invalid decimal literal (3836550331.py, line 1)",
     "output_type": "error",
     "traceback": [
      "\u001b[0;36m  Cell \u001b[0;32mIn[3], line 1\u001b[0;36m\u001b[0m\n\u001b[0;31m    3.First, generate the dataset in random\u001b[0m\n\u001b[0m     ^\u001b[0m\n\u001b[0;31mSyntaxError\u001b[0m\u001b[0;31m:\u001b[0m invalid decimal literal\n"
     ]
    }
   ],
   "source": [
    "3.First, generate the dataset in random\n",
    "Second, sort the means\n",
    "Third, identify the values at the 2.5th and 97.5th percentiles of the sorted bootstrapped means"
   ]
  },
  {
   "cell_type": "code",
   "execution_count": 4,
   "id": "f70cf5df",
   "metadata": {},
   "outputs": [
    {
     "name": "stdout",
     "output_type": "stream",
     "text": [
      "95% Bootstrap Confidence Interval for the Mean: (14.0, 16.6)\n"
     ]
    }
   ],
   "source": [
    "import numpy as np\n",
    "\n",
    "def bootstrap_confidence_interval(data, num_resamples=10000, confidence_level=0.95):\n",
    "    #meanings of each sample\n",
    "    bootstrap_means = np.array([np.mean(np.random.choice(data, size=len(data), replace=True)) for _ in range(num_resamples)])\n",
    "    \n",
    "    # Calculate the lower and upper percentiles based on the desired confidence level\n",
    "    alpha = (1 - confidence_level) / 2\n",
    "    lower_bound = np.percentile(bootstrap_means, 100 * alpha)\n",
    "    upper_bound = np.percentile(bootstrap_means, 100 * (1 - alpha))\n",
    "    \n",
    "    return lower_bound, upper_bound\n",
    "\n",
    "# Example usage\n",
    "sample_data = [12, 15, 14, 16, 14, 13, 18, 19, 17, 15]  \n",
    "# Compute 95% bootstrap confidence interval\n",
    "ci_lower, ci_upper = bootstrap_confidence_interval(sample_data)\n",
    "print(f\"95% Bootstrap Confidence Interval for the Mean: ({ci_lower}, {ci_upper})\")\n"
   ]
  },
  {
   "cell_type": "code",
   "execution_count": 5,
   "id": "6c4e3e79",
   "metadata": {},
   "outputs": [
    {
     "ename": "SyntaxError",
     "evalue": "invalid syntax (3677969789.py, line 1)",
     "output_type": "error",
     "traceback": [
      "\u001b[0;36m  Cell \u001b[0;32mIn[5], line 1\u001b[0;36m\u001b[0m\n\u001b[0;31m    summaries:\u001b[0m\n\u001b[0m              ^\u001b[0m\n\u001b[0;31mSyntaxError\u001b[0m\u001b[0;31m:\u001b[0m invalid syntax\n"
     ]
    }
   ],
   "source": [
    "summaries:\n",
    "Import Libraries: Import the numpy library for numerical operations.\n",
    "Bootstrap Function: Define a function bootstrap_confidence_interval that takes sample data, number of resamples, and confidence level as inputs. It computes bootstrap means and calculates the confidence interval bounds.\n",
    "Sample Data: Define a sample dataset.\n",
    "Calculate CI: Call the function with the sample data to compute the 95% bootstrap confidence interval and print the results."
   ]
  },
  {
   "cell_type": "code",
   "execution_count": 6,
   "id": "9a838e13",
   "metadata": {},
   "outputs": [
    {
     "ename": "SyntaxError",
     "evalue": "invalid decimal literal (3483437910.py, line 1)",
     "output_type": "error",
     "traceback": [
      "\u001b[0;36m  Cell \u001b[0;32mIn[6], line 1\u001b[0;36m\u001b[0m\n\u001b[0;31m    5.Population Parameter is usually fixed and discribe the whole population. Sample Statistic is drawn from the population and is an estimate of the population.\u001b[0m\n\u001b[0m     ^\u001b[0m\n\u001b[0;31mSyntaxError\u001b[0m\u001b[0;31m:\u001b[0m invalid decimal literal\n"
     ]
    }
   ],
   "source": [
    "5.Population Parameter is usually fixed and discribe the whole population. Sample Statistic is drawn from the population and is an estimate of the population.\n",
    "Knowing the difference between them provides clarity about the limitations of our estimates."
   ]
  },
  {
   "cell_type": "code",
   "execution_count": 7,
   "id": "5ac7dd9a",
   "metadata": {},
   "outputs": [
    {
     "ename": "SyntaxError",
     "evalue": "invalid decimal literal (1335255295.py, line 1)",
     "output_type": "error",
     "traceback": [
      "\u001b[0;36m  Cell \u001b[0;32mIn[7], line 1\u001b[0;36m\u001b[0m\n\u001b[0;31m    6.Bootstrapping is a resampling technique used in statistics to estimate the distribution of a statistic by repeatedly sampling with replacement from the observed data.\u001b[0m\n\u001b[0m     ^\u001b[0m\n\u001b[0;31mSyntaxError\u001b[0m\u001b[0;31m:\u001b[0m invalid decimal literal\n"
     ]
    }
   ],
   "source": [
    "6.Bootstrapping is a resampling technique used in statistics to estimate the distribution of a statistic by repeatedly sampling with replacement from the observed data.\n",
    "The main purpose of bootstrapping is to provide a way to estimate the sampling distribution of a statistic when the theoretical distribution is unknown or when the sample size is small."
   ]
  },
  {
   "cell_type": "code",
   "execution_count": 8,
   "id": "4461a290",
   "metadata": {},
   "outputs": [
    {
     "ename": "SyntaxError",
     "evalue": "invalid decimal literal (3801497862.py, line 1)",
     "output_type": "error",
     "traceback": [
      "\u001b[0;36m  Cell \u001b[0;32mIn[8], line 1\u001b[0;36m\u001b[0m\n\u001b[0;31m    7.Failing to Reject the Null Hypothesis\u001b[0m\n\u001b[0m     ^\u001b[0m\n\u001b[0;31mSyntaxError\u001b[0m\u001b[0;31m:\u001b[0m invalid decimal literal\n"
     ]
    }
   ],
   "source": [
    "7.Failing to Reject the Null Hypothesis\n",
    "1.Confidence Interval and Null Hypothesis: A confidence interval provides a range of values within which we expect the true population parameter (like the mean) to lie, based on our sample data. When we say that a confidence interval overlaps zero, it indicates that zero is a plausible value for the population mean based on our data. In the context of hypothesis testing, the null hypothesis typically states that there is no effect or difference \n",
    "\n",
    "2.Sample Mean Not Being Zero: Even if the observed sample mean is not zero, the confidence interval’s overlap with zero suggests that, given the variability in the data and the sample size, it's possible that the true population mean could be zero. Therefore, we cannot confidently conclude that there is a significant effect or difference. This is why we say we \"fail to reject the null hypothesis\"—the evidence is not strong enough to assert that the effect is statistically significant.\n",
    "\n",
    "Rejecting the Null Hypothesis\n",
    "1.Non-overlapping Confidence Interval: To reject the null hypothesis , the confidence interval for the sample mean must not overlap with zero. If the entire confidence interval is above or below zero, it suggests that the true population mean is significantly different from zero. For instance, a 95% confidence interval of [0.5, 1.5] clearly indicates that zero is not a plausible value for the population mean, leading to the conclusion that we reject the null hypothesis.\n",
    "\n",
    "2.P-value Approach: Additionally, if you are using a hypothesis testing approach with p-values, a low p-value (commonly below 0.05) indicates that the observed effect is statistically significant and that the null hypothesis can be rejected. In this case, the evidence supports the existence of an effect."
   ]
  },
  {
   "cell_type": "code",
   "execution_count": 10,
   "id": "e5b8690f",
   "metadata": {},
   "outputs": [
    {
     "name": "stdout",
     "output_type": "stream",
     "text": [
      "Summary Statistics:\n",
      "       InitialHealthScore  FinalHealthScore\n",
      "count           10.000000         10.000000\n",
      "mean            81.000000         84.300000\n",
      "std              2.828427          2.110819\n",
      "min             76.000000         80.000000\n",
      "25%             79.250000         83.250000\n",
      "50%             81.000000         85.000000\n",
      "75%             83.000000         86.000000\n",
      "max             85.000000         86.000000\n",
      "\n",
      "Mean Health Scores by Gender:\n",
      "        InitialHealthScore  FinalHealthScore\n",
      "Gender                                      \n",
      "F                     81.4              84.8\n",
      "M                     80.6              83.8\n"
     ]
    },
    {
     "data": {
      "image/png": "[encoded data removed]",
      "text/plain": [
       "<Figure size 1000x500 with 1 Axes>"
      ]
     },
     "metadata": {},
     "output_type": "display_data"
    },
    {
     "name": "stderr",
     "output_type": "stream",
     "text": [
      "/tmp/ipykernel_52/4229404697.py:44: FutureWarning: \n",
      "\n",
      "The `ci` parameter is deprecated. Use `errorbar=None` for the same effect.\n",
      "\n",
      "  sns.barplot(x='Gender', y='FinalHealthScore', data=df, estimator='mean', ci=None)\n"
     ]
    },
    {
     "data": {
      "image/png": "[encoded data removed]",
      "text/plain": [
       "<Figure size 1000x500 with 1 Axes>"
      ]
     },
     "metadata": {},
     "output_type": "display_data"
    }
   ],
   "source": [
    "import pandas as pd\n",
    "import matplotlib.pyplot as plt\n",
    "import seaborn as sns\n",
    "\n",
    "# Sample CSV data as a string\n",
    "data = \"\"\"PatientID,Age,Gender,InitialHealthScore,FinalHealthScore\n",
    "1,45,M,84,86\n",
    "2,34,F,78,86\n",
    "3,29,M,83,80\n",
    "4,52,F,81,86\n",
    "5,37,M,81,84\n",
    "6,41,F,80,86\n",
    "7,33,M,79,86\n",
    "8,48,F,85,82\n",
    "9,26,M,76,83\n",
    "10,39,F,83,84\"\"\"\n",
    "\n",
    "# Load the data into a pandas DataFrame\n",
    "from io import StringIO\n",
    "df = pd.read_csv(StringIO(data))\n",
    "\n",
    "# Summary statistics\n",
    "summary = df[['InitialHealthScore', 'FinalHealthScore']].describe()\n",
    "print(\"Summary Statistics:\")\n",
    "print(summary)\n",
    "\n",
    "# Gender Comparison\n",
    "gender_comparison = df.groupby('Gender')[['InitialHealthScore', 'FinalHealthScore']].mean()\n",
    "print(\"\\nMean Health Scores by Gender:\")\n",
    "print(gender_comparison)\n",
    "\n",
    "# Visualizations\n",
    "plt.figure(figsize=(10, 5))\n",
    "\n",
    "# Initial vs Final Health Scores\n",
    "sns.boxplot(data=df[['InitialHealthScore', 'FinalHealthScore']])\n",
    "plt.title('Boxplot of Initial and Final Health Scores')\n",
    "plt.ylabel('Health Score')\n",
    "plt.xticks(ticks=[0, 1], labels=['Initial Health Score', 'Final Health Score'])\n",
    "plt.show()\n",
    "\n",
    "# Health Scores by Gender\n",
    "plt.figure(figsize=(10, 5))\n",
    "sns.barplot(x='Gender', y='FinalHealthScore', data=df, estimator='mean', ci=None)\n",
    "plt.title('Average Final Health Score by Gender')\n",
    "plt.ylabel('Average Final Health Score')\n",
    "plt.show()\n"
   ]
  },
  {
   "cell_type": "code",
   "execution_count": null,
   "id": "657eba59",
   "metadata": {},
   "outputs": [],
   "source": [
    "9. not often "
   ]
  }
 ],
 "metadata": {
  "kernelspec": {
   "display_name": "Python 3 (ipykernel)",
   "language": "python",
   "name": "python3"
  },
  "language_info": {
   "codemirror_mode": {
    "name": "ipython",
    "version": 3
   },
   "file_extension": ".py",
   "mimetype": "text/x-python",
   "name": "python",
   "nbconvert_exporter": "python",
   "pygments_lexer": "ipython3",
   "version": "3.11.6"
  }
 },
 "nbformat": 4,
 "nbformat_minor": 5
}
